{
  "nbformat": 4,
  "nbformat_minor": 0,
  "metadata": {
    "colab": {
      "provenance": [],
      "authorship_tag": "ABX9TyP7PGzqXY7M8+xrGXbS0Evs",
      "include_colab_link": true
    },
    "kernelspec": {
      "name": "python3",
      "display_name": "Python 3"
    },
    "language_info": {
      "name": "python"
    }
  },
  "cells": [
    {
      "cell_type": "markdown",
      "metadata": {
        "id": "view-in-github",
        "colab_type": "text"
      },
      "source": [
        "<a href=\"https://colab.research.google.com/github/WesleyFerreira94/Sistema-de-fila-de-atendimento-Clinica-Vida-/blob/main/Sistema_fila_de_atendimento_Clinica_Vida%2B.ipynb\" target=\"_parent\"><img src=\"https://colab.research.google.com/assets/colab-badge.svg\" alt=\"Open In Colab\"/></a>"
      ]
    },
    {
      "cell_type": "code",
      "execution_count": null,
      "metadata": {
        "id": "5IdJo8XLgiR-"
      },
      "outputs": [],
      "source": [
        "# Sistema de Fila de Atendimento - Clinica Vida+ #\n",
        "\n",
        "# Iniciando a fila como uma lista vazia #\n",
        "\n",
        "fila = []"
      ]
    },
    {
      "cell_type": "code",
      "source": [
        "# Inserindo 3 pacientes na fila\n",
        "\n",
        "for i in range(3):\n",
        "    print(f\"\\nCadastro do paciente {i+1}\")\n",
        "    nome =  input(\"Digite o nome do paciente: \")\n",
        "    cpf = input(\"Digite o CPF do paciente: \")\n",
        "    paciente =  {\"nome\": nome, \"cpf\": cpf}\n",
        "    fila.append(paciente)"
      ],
      "metadata": {
        "colab": {
          "base_uri": "https://localhost:8080/"
        },
        "id": "YtK41I7fH19P",
        "outputId": "5467a847-68a9-43f3-c833-768725d01adf"
      },
      "execution_count": null,
      "outputs": [
        {
          "name": "stdout",
          "output_type": "stream",
          "text": [
            "\n",
            "Cadastro do paciente 1\n",
            "Digite o nome do paciente: Evandro Mesquita\n",
            "Digite o CPF do paciente: 555.555.555-98\n",
            "\n",
            "Cadastro do paciente 2\n",
            "Digite o nome do paciente: Lobão\n",
            "Digite o CPF do paciente: 888.888.888-36\n",
            "\n",
            "Cadastro do paciente 3\n",
            "Digite o nome do paciente: Dilera\n",
            "Digite o CPF do paciente: 111\n"
          ]
        }
      ]
    },
    {
      "cell_type": "code",
      "source": [
        "# Removendo o primeiro paciente da fila\n",
        "\n",
        "print(\"\\n=== Atendimento ===\")\n",
        "if fila:\n",
        "    atendido = fila.pop(0)\n",
        "    print(f\"Paciente atendido: {atendido['nome']} - CPF: {atendido['cpf']}\")\n",
        "else:\n",
        "    print(\"Nenhum paciente na fila para atendimento.\")"
      ],
      "metadata": {
        "colab": {
          "base_uri": "https://localhost:8080/"
        },
        "id": "DdZf27x3IteP",
        "outputId": "519c9390-b8c7-49b6-c730-bcf6ecd5009f"
      },
      "execution_count": null,
      "outputs": [
        {
          "output_type": "stream",
          "name": "stdout",
          "text": [
            "\n",
            "=== Atendimento ===\n",
            "Paciente atendido: Evandro Mesquita - CPF: 555.555.555-98\n"
          ]
        }
      ]
    },
    {
      "cell_type": "code",
      "source": [
        "# Mostrando os pacientes restantes na fila\n",
        "\n",
        "print (\"\\n=== Pacientes restantes na fila ===\")\n",
        "if fila:\n",
        "    for paciente in fila:\n",
        "        print(f\"{paciente['nome']} - CPF: {paciente['cpf']}\")\n",
        "else:\n",
        "    print(\"Nenhum paciente aguardando na fila.\")"
      ],
      "metadata": {
        "colab": {
          "base_uri": "https://localhost:8080/"
        },
        "id": "G2pH-0NwJsuw",
        "outputId": "c5c93104-d9fc-4b37-cbe5-3a4660a1f212"
      },
      "execution_count": null,
      "outputs": [
        {
          "output_type": "stream",
          "name": "stdout",
          "text": [
            "\n",
            "=== Pacientes restantes na fila ===\n",
            "Lobão - CPF: 888.888.888-36\n",
            "Dilera - CPF: 111\n"
          ]
        }
      ]
    }
  ]
}
